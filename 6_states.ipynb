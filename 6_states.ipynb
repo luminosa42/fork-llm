{
 "cells": [
  {
   "cell_type": "markdown",
   "metadata": {},
   "source": [
    "# Keeping track of information\n",
    "LLMs calls are inherently stateless - they do not have memory of any previous interactions. Every call is an independent event, and **YOU** must manage any information that needs to be carried over time.\n",
    "\n",
    "In this notebook we will look at a few different things that we might want to keep track of between calls."
   ]
  },
  {
   "cell_type": "markdown",
   "metadata": {},
   "source": [
    "## Conversation History\n",
    "Keeping track of the conversation history is actually easy. Firstly it is important to remember that LLMs often have the following pattern:\n",
    "\n",
    "```\n",
    "-> system prompt\n",
    "-> user prompt\n",
    "-> model response\n",
    "\n",
    "-> user prompt\n",
    "-> model response\n",
    "\n",
    "-> user prompt\n",
    "-> model response\n",
    "\n",
    "-> etc.\n",
    "```"
   ]
  },
  {
   "cell_type": "markdown",
   "metadata": {},
   "source": [
    "We actually saw an example of this in the prompting notebook when we looked at few-shot prompting.\n",
    "\n",
    "Here is a really simple example of how we can keep track of the conversation history. We can first define a `system_state` dictionary that will store important information for us. We can give it a `conversation_history` key that will store the conversation history."
   ]
  },
  {
   "cell_type": "code",
   "execution_count": 1,
   "metadata": {},
   "outputs": [],
   "source": [
    "system_state = {\n",
    "    \"conversation_history\": []\n",
    "}"
   ]
  },
  {
   "cell_type": "code",
   "execution_count": 2,
   "metadata": {},
   "outputs": [],
   "source": [
    "system_prompt = (\n",
    "    \"You are a helpful philosophical assistant. \"\n",
    "    \"You will help me think about philosophical questions. \"\n",
    "    \"Please keep your answers concise and to the point.\"\n",
    ")\n",
    "\n",
    "system_state[\"conversation_history\"].append({\n",
    "    \"role\": \"system\",\n",
    "    \"content\": system_prompt\n",
    "})\n",
    "\n",
    "user_prompt = \"What is the meaning of life?\"\n",
    "\n",
    "system_state[\"conversation_history\"].append({\n",
    "    \"role\": \"user\",\n",
    "    \"content\": user_prompt\n",
    "})"
   ]
  },
  {
   "cell_type": "code",
   "execution_count": 3,
   "metadata": {},
   "outputs": [
    {
     "name": "stdout",
     "output_type": "stream",
     "text": [
      "system: You are a helpful philosophical assistant. You will help me think about philosophical questions. Please keep your answers concise and to the point.\n",
      "\n",
      "user: What is the meaning of life?\n",
      "\n"
     ]
    }
   ],
   "source": [
    "for message in system_state[\"conversation_history\"]:\n",
    "    print(f\"{message['role']}: {message['content']}\\n\")"
   ]
  },
  {
   "cell_type": "markdown",
   "metadata": {},
   "source": [
    "Now we can use this conversation history to generate a response."
   ]
  },
  {
   "cell_type": "code",
   "execution_count": 4,
   "metadata": {},
   "outputs": [],
   "source": [
    "from openai import OpenAI\n",
    "client = OpenAI()\n",
    "\n",
    "import dotenv\n",
    "import os\n",
    "\n",
    "dotenv.load_dotenv()\n",
    "\n",
    "OPENAI_API_KEY = os.getenv(\"OPENAI_API_KEY\")\n",
    "\n",
    "from rich.pretty import pprint"
   ]
  },
  {
   "cell_type": "code",
   "execution_count": 5,
   "metadata": {},
   "outputs": [
    {
     "name": "stdout",
     "output_type": "stream",
     "text": [
      "The meaning of life is a deeply subjective question and can vary widely among individuals. Some philosophical perspectives suggest it is to seek happiness, fulfillment, or knowledge. Others propose it is about relationships, contributions to society, or spiritual enlightenment. Ultimately, many believe it is for each person to create their own meaning based on experiences and values.\n"
     ]
    }
   ],
   "source": [
    "response = client.chat.completions.create(\n",
    "    model=\"gpt-4o-mini\",\n",
    "    messages=system_state[\"conversation_history\"],\n",
    "    max_tokens=512,\n",
    "    temperature=1.0\n",
    ")\n",
    "\n",
    "print(response.choices[0].message.content)"
   ]
  },
  {
   "cell_type": "markdown",
   "metadata": {},
   "source": [
    "Great, but now what happens if I want to ask a follow up question? Without the conversation history?"
   ]
  },
  {
   "cell_type": "code",
   "execution_count": 6,
   "metadata": {},
   "outputs": [
    {
     "name": "stdout",
     "output_type": "stream",
     "text": [
      "Of course! However, I need a bit more context about what \"point 1\" refers to. Could you please specify the topic or the context you are discussing? Once I have that information, I can provide you with more detailed insights.\n"
     ]
    }
   ],
   "source": [
    "follow_up_prompt = \"Can you tell more about point 1?\"\n",
    "\n",
    "response = client.chat.completions.create(\n",
    "    model=\"gpt-4o-mini\",\n",
    "    messages=[{\n",
    "        \"role\": \"user\",\n",
    "        \"content\": follow_up_prompt\n",
    "    }],\n",
    "    max_tokens=512,\n",
    "    temperature=1.0\n",
    ")\n",
    "\n",
    "print(response.choices[0].message.content)\n"
   ]
  },
  {
   "cell_type": "markdown",
   "metadata": {},
   "source": [
    "Obviously it has no memory of the previous conversation. So we just need to append the follow up prompt to the conversation history."
   ]
  },
  {
   "cell_type": "code",
   "execution_count": 7,
   "metadata": {},
   "outputs": [
    {
     "name": "stdout",
     "output_type": "stream",
     "text": [
      "SYSTEM: You are a helpful philosophical assistant. You will help me think about philosophical questions. Please keep your answers concise and to the point.\n",
      "\n",
      "USER: What is the meaning of life?\n",
      "\n",
      "ASSISTANT: The meaning of life is a deeply personal and subjective question. Various philosophical perspectives offer different answers: \n",
      "\n",
      "1. **Existentialism** suggests that individuals create their own meaning through choices and actions.\n",
      "2. **Religious perspectives** often provide meaning through adherence to divine principles or purpose.\n",
      "3. **Utilitarianism** posits that meaning can be found in maximizing happiness and minimizing suffering.\n",
      "4. **Humanism** emphasizes the importance of human experience and reason in finding purpose.\n",
      "\n",
      "Ultimately, the meaning of life may vary based on individual beliefs, experiences, and values.\n",
      "\n"
     ]
    }
   ],
   "source": [
    "response = client.chat.completions.create(\n",
    "    model=\"gpt-4o-mini\",\n",
    "    messages=system_state[\"conversation_history\"],\n",
    "    max_tokens=512,\n",
    "    temperature=1.0\n",
    ")\n",
    "\n",
    "system_state[\"conversation_history\"].append({\n",
    "    \"role\": \"assistant\",\n",
    "    \"content\": response.choices[0].message.content\n",
    "})\n",
    "\n",
    "for message in system_state[\"conversation_history\"]:\n",
    "    print(f\"{message['role'].upper()}: {message['content']}\\n\")"
   ]
  },
  {
   "cell_type": "markdown",
   "metadata": {},
   "source": [
    "And now we can keep the conversation going in a simple loop. If you run this cell a few times you will see that the conversation history is correctly maintained."
   ]
  },
  {
   "cell_type": "code",
   "execution_count": 8,
   "metadata": {},
   "outputs": [
    {
     "name": "stdout",
     "output_type": "stream",
     "text": [
      "Assistant: It seems you may have not included a question or statement. How can I assist you further with your philosophical inquiry?\n",
      "\n",
      "Assistant: Goodbye!\n"
     ]
    }
   ],
   "source": [
    "while True:\n",
    "    user_input = input(\"You: \")\n",
    "    \n",
    "    if user_input.lower() in ['exit', 'quit', 'bye']:\n",
    "        print(\"Assistant: Goodbye!\")\n",
    "        break\n",
    "    \n",
    "    system_state[\"conversation_history\"].append({\n",
    "        \"role\": \"user\",\n",
    "        \"content\": user_input\n",
    "    })\n",
    "    \n",
    "    response = client.chat.completions.create(\n",
    "        model=\"gpt-4o-mini\",\n",
    "        messages=system_state[\"conversation_history\"],\n",
    "        max_tokens=512,\n",
    "        temperature=1.0\n",
    "    )\n",
    "    \n",
    "    assistant_response = response.choices[0].message.content\n",
    "    print(f\"Assistant: {assistant_response}\\n\")\n",
    "    \n",
    "    system_state[\"conversation_history\"].append({\n",
    "        \"role\": \"assistant\",\n",
    "        \"content\": assistant_response\n",
    "    })"
   ]
  },
  {
   "cell_type": "code",
   "execution_count": 9,
   "metadata": {},
   "outputs": [],
   "source": [
    "from rich.console import Console\n",
    "from rich.text import Text\n",
    "\n",
    "console = Console()"
   ]
  },
  {
   "cell_type": "code",
   "execution_count": 10,
   "metadata": {},
   "outputs": [
    {
     "data": {
      "text/html": [
       "<pre style=\"white-space:pre;overflow-x:auto;line-height:normal;font-family:Menlo,'DejaVu Sans Mono',consolas,'Courier New',monospace\"><span style=\"color: #008000; text-decoration-color: #008000\">SYSTEM: You are a helpful philosophical assistant. You will help me think about philosophical questions. Please </span>\n",
       "<span style=\"color: #008000; text-decoration-color: #008000\">keep your answers concise and to the point.</span>\n",
       "</pre>\n"
      ],
      "text/plain": [
       "\u001b[32mSYSTEM: You are a helpful philosophical assistant. You will help me think about philosophical questions. Please \u001b[0m\n",
       "\u001b[32mkeep your answers concise and to the point.\u001b[0m\n"
      ]
     },
     "metadata": {},
     "output_type": "display_data"
    },
    {
     "data": {
      "text/html": [
       "<pre style=\"white-space:pre;overflow-x:auto;line-height:normal;font-family:Menlo,'DejaVu Sans Mono',consolas,'Courier New',monospace\"><span style=\"color: #008080; text-decoration-color: #008080\">USER: What is the meaning of life?</span>\n",
       "</pre>\n"
      ],
      "text/plain": [
       "\u001b[36mUSER: What is the meaning of life?\u001b[0m\n"
      ]
     },
     "metadata": {},
     "output_type": "display_data"
    },
    {
     "data": {
      "text/html": [
       "<pre style=\"white-space:pre;overflow-x:auto;line-height:normal;font-family:Menlo,'DejaVu Sans Mono',consolas,'Courier New',monospace\"><span style=\"color: #800080; text-decoration-color: #800080\">ASSISTANT: The meaning of life is a deeply personal and subjective question. Various philosophical perspectives </span>\n",
       "<span style=\"color: #800080; text-decoration-color: #800080\">offer different answers: </span>\n",
       "\n",
       "<span style=\"color: #800080; text-decoration-color: #800080; font-weight: bold\">1</span><span style=\"color: #800080; text-decoration-color: #800080\">. **Existentialism** suggests that individuals create their own meaning through choices and actions.</span>\n",
       "<span style=\"color: #800080; text-decoration-color: #800080; font-weight: bold\">2</span><span style=\"color: #800080; text-decoration-color: #800080\">. **Religious perspectives** often provide meaning through adherence to divine principles or purpose.</span>\n",
       "<span style=\"color: #800080; text-decoration-color: #800080; font-weight: bold\">3</span><span style=\"color: #800080; text-decoration-color: #800080\">. **Utilitarianism** posits that meaning can be found in maximizing happiness and minimizing suffering.</span>\n",
       "<span style=\"color: #800080; text-decoration-color: #800080; font-weight: bold\">4</span><span style=\"color: #800080; text-decoration-color: #800080\">. **Humanism** emphasizes the importance of human experience and reason in finding purpose.</span>\n",
       "\n",
       "<span style=\"color: #800080; text-decoration-color: #800080\">Ultimately, the meaning of life may vary based on individual beliefs, experiences, and values.</span>\n",
       "</pre>\n"
      ],
      "text/plain": [
       "\u001b[35mASSISTANT: The meaning of life is a deeply personal and subjective question. Various philosophical perspectives \u001b[0m\n",
       "\u001b[35moffer different answers: \u001b[0m\n",
       "\n",
       "\u001b[1;35m1\u001b[0m\u001b[35m. **Existentialism** suggests that individuals create their own meaning through choices and actions.\u001b[0m\n",
       "\u001b[1;35m2\u001b[0m\u001b[35m. **Religious perspectives** often provide meaning through adherence to divine principles or purpose.\u001b[0m\n",
       "\u001b[1;35m3\u001b[0m\u001b[35m. **Utilitarianism** posits that meaning can be found in maximizing happiness and minimizing suffering.\u001b[0m\n",
       "\u001b[1;35m4\u001b[0m\u001b[35m. **Humanism** emphasizes the importance of human experience and reason in finding purpose.\u001b[0m\n",
       "\n",
       "\u001b[35mUltimately, the meaning of life may vary based on individual beliefs, experiences, and values.\u001b[0m\n"
      ]
     },
     "metadata": {},
     "output_type": "display_data"
    },
    {
     "data": {
      "text/html": [
       "<pre style=\"white-space:pre;overflow-x:auto;line-height:normal;font-family:Menlo,'DejaVu Sans Mono',consolas,'Courier New',monospace\"><span style=\"color: #008080; text-decoration-color: #008080\">USER: </span>\n",
       "</pre>\n"
      ],
      "text/plain": [
       "\u001b[36mUSER: \u001b[0m\n"
      ]
     },
     "metadata": {},
     "output_type": "display_data"
    },
    {
     "data": {
      "text/html": [
       "<pre style=\"white-space:pre;overflow-x:auto;line-height:normal;font-family:Menlo,'DejaVu Sans Mono',consolas,'Courier New',monospace\"><span style=\"color: #800080; text-decoration-color: #800080\">ASSISTANT: It seems you may have not included a question or statement. How can I assist you further with your </span>\n",
       "<span style=\"color: #800080; text-decoration-color: #800080\">philosophical inquiry?</span>\n",
       "</pre>\n"
      ],
      "text/plain": [
       "\u001b[35mASSISTANT: It seems you may have not included a question or statement. How can I assist you further with your \u001b[0m\n",
       "\u001b[35mphilosophical inquiry?\u001b[0m\n"
      ]
     },
     "metadata": {},
     "output_type": "display_data"
    }
   ],
   "source": [
    "colors = {\n",
    "    \"system\": \"green\",\n",
    "    \"user\": \"cyan\",\n",
    "    \"assistant\": \"magenta\"\n",
    "}\n",
    "\n",
    "for message in system_state[\"conversation_history\"]:\n",
    "    role = message[\"role\"]\n",
    "    content = message[\"content\"]\n",
    "    color = colors[role]\n",
    "    console.print(f\"[{color}]{role.upper()}: {content}[/{color}]\")"
   ]
  },
  {
   "cell_type": "markdown",
   "metadata": {},
   "source": [
    "## Tracking tokens\n",
    "We should probably also track the tokens. This can be useful for a few reasons - we can track costs, and we can use it to cut off conversation history when we get too close to our limit.\n",
    "\n",
    "We can make this as simple or complicated as we want. Probably we should create a `Conversation` class to keep track of things like this."
   ]
  },
  {
   "cell_type": "code",
   "execution_count": 114,
   "metadata": {},
   "outputs": [],
   "source": [
    "class Conversation:\n",
    "    def __init__(self, system_prompt):\n",
    "        self.system_prompt = system_prompt\n",
    "        self.history = []\n",
    "        self.tokens = 0\n",
    "        self.token_limit = 300\n",
    "\n",
    "        self.add_message(\"system\", system_prompt)\n",
    "\n",
    "    def add_message(self, role, content):\n",
    "        self.history.append({\"role\": role, \"content\": content})\n",
    "        self.tokens += len(content)\n",
    "\n",
    "    def check_token_limit(self):\n",
    "        while self.tokens > self.token_limit and len(self.history) > 1:\n",
    "            # Remove the oldest non-system message\n",
    "            for i in range(1, len(self.history)):\n",
    "                if self.history[i][\"role\"] != \"system\":\n",
    "                    removed_message = self.history.pop(i)\n",
    "                    self.tokens -= len(removed_message[\"content\"])\n",
    "                    break\n",
    "\n",
    "    def response(self, user_input):\n",
    "        self.add_message(\"user\", user_input)\n",
    "        if self.tokens > self.token_limit:\n",
    "            self.check_token_limit()\n",
    "        response = client.chat.completions.create(\n",
    "            model=\"gpt-4o-mini\",\n",
    "            messages=self.history,\n",
    "            max_tokens=512,\n",
    "            temperature=1.0\n",
    "        ).choices[0].message.content\n",
    "        \n",
    "        self.add_message(\"assistant\", response)\n",
    "\n",
    "        return response\n",
    "                "
   ]
  },
  {
   "cell_type": "markdown",
   "metadata": {},
   "source": [
    "Let's see how this works."
   ]
  },
  {
   "cell_type": "markdown",
   "metadata": {},
   "source": [
    "Let's see if we can get the model to forget about things we mention at the start of a conversation."
   ]
  },
  {
   "cell_type": "code",
   "execution_count": 119,
   "metadata": {},
   "outputs": [],
   "source": [
    "conversation = Conversation(system_prompt)"
   ]
  },
  {
   "cell_type": "code",
   "execution_count": null,
   "metadata": {},
   "outputs": [],
   "source": [
    "print(conversation.response(\"Hello, my name is Bob and I am 25 years old!\"))\n",
    "print(f\"Tokens: {conversation.tokens}\")"
   ]
  },
  {
   "cell_type": "code",
   "execution_count": null,
   "metadata": {},
   "outputs": [],
   "source": [
    "print(conversation.response(\"What is my name?\"))\n",
    "print(f\"Tokens: {conversation.tokens}\")\n"
   ]
  },
  {
   "cell_type": "markdown",
   "metadata": {},
   "source": [
    "Great, so now we have hit our token limit, and the conversation should be trimmed in the next response."
   ]
  },
  {
   "cell_type": "code",
   "execution_count": null,
   "metadata": {},
   "outputs": [],
   "source": [
    "print(conversation.response(\"What is my age?\"))\n",
    "print(f\"Tokens: {conversation.tokens}\")"
   ]
  },
  {
   "cell_type": "code",
   "execution_count": null,
   "metadata": {},
   "outputs": [],
   "source": [
    "pprint(conversation.history, expand_all=True)"
   ]
  },
  {
   "cell_type": "markdown",
   "metadata": {},
   "source": [
    "This is a good start, but there is a problem here. What if there was something very important that we wanted to keep track of that was mentioned at the start of the conversation, but it has been cut off!?"
   ]
  }
 ],
 "metadata": {
  "kernelspec": {
   "display_name": "Python 3",
   "language": "python",
   "name": "python3"
  },
  "language_info": {
   "codemirror_mode": {
    "name": "ipython",
    "version": 3
   },
   "file_extension": ".py",
   "mimetype": "text/x-python",
   "name": "python",
   "nbconvert_exporter": "python",
   "pygments_lexer": "ipython3",
   "version": "3.12.1"
  }
 },
 "nbformat": 4,
 "nbformat_minor": 2
}
